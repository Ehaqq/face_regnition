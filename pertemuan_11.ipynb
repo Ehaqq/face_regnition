{
 "cells": [
  {
   "attachments": {},
   "cell_type": "markdown",
   "metadata": {},
   "source": [
    "# Pertemuan 11\n",
    "\n",
    "- Keras Transfer Learning with Flask\n",
    "    - Basic **Flask & SocketIO**\n",
    "    - **Background Job** using Flask SocketIO\n",
    "    - **Face Registration** Web App\n",
    "    - Transfer Learning Keras as Background Job Flask SocketIO\n",
    "- Flask & Bootstrap\n",
    "    - Create Template UI (Navigation Menu & Themes)\n",
    "    - Layouting Realtime Stream UI\n",
    "    - Layouting Face Registration UI"
   ]
  },
  {
   "attachments": {},
   "cell_type": "markdown",
   "metadata": {},
   "source": [
    "### 1.1 Basic Flask SocketIO"
   ]
  },
  {
   "attachments": {},
   "cell_type": "markdown",
   "metadata": {},
   "source": [
    "- install library"
   ]
  },
  {
   "cell_type": "code",
   "execution_count": 2,
   "metadata": {},
   "outputs": [
    {
     "name": "stdout",
     "output_type": "stream",
     "text": [
      "Collecting flask-socketio\n",
      "  Downloading Flask_SocketIO-5.3.4-py3-none-any.whl (17 kB)\n",
      "Collecting Flask>=0.9\n",
      "  Downloading Flask-2.3.2-py3-none-any.whl (96 kB)\n",
      "     -------------------------------------- 96.9/96.9 kB 693.0 kB/s eta 0:00:00\n",
      "Collecting python-socketio>=5.0.2\n",
      "  Downloading python_socketio-5.8.0-py3-none-any.whl (56 kB)\n",
      "     -------------------------------------- 57.0/57.0 kB 599.3 kB/s eta 0:00:00\n",
      "Collecting Werkzeug>=2.3.3\n",
      "  Downloading Werkzeug-2.3.4-py3-none-any.whl (242 kB)\n",
      "     ------------------------------------ 242.5/242.5 kB 988.1 kB/s eta 0:00:00\n",
      "Collecting Jinja2>=3.1.2\n",
      "  Downloading Jinja2-3.1.2-py3-none-any.whl (133 kB)\n",
      "     -------------------------------------- 133.1/133.1 kB 2.0 MB/s eta 0:00:00\n",
      "Collecting itsdangerous>=2.1.2\n",
      "  Downloading itsdangerous-2.1.2-py3-none-any.whl (15 kB)\n",
      "Collecting click>=8.1.3\n",
      "  Downloading click-8.1.3-py3-none-any.whl (96 kB)\n",
      "     ---------------------------------------- 96.6/96.6 kB 2.8 MB/s eta 0:00:00\n",
      "Collecting blinker>=1.6.2\n",
      "  Downloading blinker-1.6.2-py3-none-any.whl (13 kB)\n",
      "Collecting bidict>=0.21.0\n",
      "  Downloading bidict-0.22.1-py3-none-any.whl (35 kB)\n",
      "Collecting python-engineio>=4.3.0\n",
      "  Downloading python_engineio-4.4.1-py3-none-any.whl (53 kB)\n",
      "     ---------------------------------------- 53.4/53.4 kB ? eta 0:00:00\n",
      "Requirement already satisfied: colorama in c:\\users\\msi modern 15\\appdata\\roaming\\python\\python311\\site-packages (from click>=8.1.3->Flask>=0.9->flask-socketio) (0.4.6)\n",
      "Collecting MarkupSafe>=2.0\n",
      "  Downloading MarkupSafe-2.1.3-cp311-cp311-win_amd64.whl (17 kB)\n",
      "Installing collected packages: python-engineio, MarkupSafe, itsdangerous, click, blinker, bidict, Werkzeug, python-socketio, Jinja2, Flask, flask-socketio\n"
     ]
    },
    {
     "name": "stderr",
     "output_type": "stream",
     "text": [
      "  WARNING: Failed to write executable - trying to use .deleteme logic\n",
      "ERROR: Could not install packages due to an OSError: [WinError 2] The system cannot find the file specified: 'C:\\\\Python311\\\\Scripts\\\\flask.exe' -> 'C:\\\\Python311\\\\Scripts\\\\flask.exe.deleteme'\n",
      "\n",
      "\n",
      "[notice] A new release of pip available: 22.3.1 -> 23.1.2\n",
      "[notice] To update, run: python.exe -m pip install --upgrade pip\n"
     ]
    }
   ],
   "source": [
    "! pip install flask-socketio"
   ]
  },
  {
   "cell_type": "code",
   "execution_count": 1,
   "metadata": {},
   "outputs": [
    {
     "name": "stdout",
     "output_type": "stream",
     "text": [
      "Collecting eventlet\n",
      "  Downloading eventlet-0.33.3-py2.py3-none-any.whl (226 kB)\n",
      "     -------------------------------------- 226.8/226.8 kB 1.7 MB/s eta 0:00:00\n",
      "Collecting dnspython>=1.15.0\n",
      "  Downloading dnspython-2.3.0-py3-none-any.whl (283 kB)\n",
      "     -------------------------------------- 283.7/283.7 kB 2.2 MB/s eta 0:00:00\n",
      "Collecting greenlet>=0.3\n",
      "  Downloading greenlet-2.0.2-cp311-cp311-win_amd64.whl (192 kB)\n",
      "     -------------------------------------- 192.5/192.5 kB 1.5 MB/s eta 0:00:00\n",
      "Requirement already satisfied: six>=1.10.0 in c:\\users\\msi modern 15\\appdata\\roaming\\python\\python311\\site-packages (from eventlet) (1.16.0)\n",
      "Installing collected packages: greenlet, dnspython, eventlet\n",
      "Successfully installed dnspython-2.3.0 eventlet-0.33.3 greenlet-2.0.2\n"
     ]
    },
    {
     "name": "stderr",
     "output_type": "stream",
     "text": [
      "\n",
      "[notice] A new release of pip available: 22.3.1 -> 23.1.2\n",
      "[notice] To update, run: python.exe -m pip install --upgrade pip\n"
     ]
    }
   ],
   "source": [
    "! pip install eventlet"
   ]
  },
  {
   "attachments": {},
   "cell_type": "markdown",
   "metadata": {},
   "source": [
    "#### 1.1.1 About Socket.IO\n",
    "- **Socket.IO** is a library that enables **real-time**, **bidirectional** and **event-based** communication between the **browser** and the **server**.\n",
    "- official documentation : https://flask-socketio.readthedocs.io/en/latest/\n",
    "- requirement : asynchronous services (**evenlet** / **gavent**)\n",
    "- How websocket works : <br>\n",
    "![](resource/socket.png)\n",
    "<br><br>\n",
    "- Version compatibility : <br>\n",
    "![](resource/socket2.png)\n",
    "- Flask-SocketIO installed is version 5.0.1\n",
    "- Required javascript Socket.IO version is 3.x\n",
    "    - list of javascript Socket.IO : https://cdnjs.com/libraries/socket.io"
   ]
  },
  {
   "attachments": {},
   "cell_type": "markdown",
   "metadata": {},
   "source": [
    "- Basic implementation : `1. Flask - SocketIO`\n",
    "- run `python ./1. Flask - SocketIO/app.py`\n"
   ]
  },
  {
   "cell_type": "code",
   "execution_count": null,
   "metadata": {},
   "outputs": [],
   "source": []
  }
 ],
 "metadata": {
  "kernelspec": {
   "display_name": "Python 3",
   "language": "python",
   "name": "python3"
  },
  "language_info": {
   "codemirror_mode": {
    "name": "ipython",
    "version": 3
   },
   "file_extension": ".py",
   "mimetype": "text/x-python",
   "name": "python",
   "nbconvert_exporter": "python",
   "pygments_lexer": "ipython3",
   "version": "3.11.3"
  }
 },
 "nbformat": 4,
 "nbformat_minor": 4
}
